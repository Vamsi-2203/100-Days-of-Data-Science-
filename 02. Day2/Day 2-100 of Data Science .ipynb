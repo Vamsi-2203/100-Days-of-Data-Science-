{
 "cells": [
  {
   "cell_type": "markdown",
   "id": "bb050e24",
   "metadata": {},
   "source": [
    "# Python First Program"
   ]
  },
  {
   "cell_type": "code",
   "execution_count": 1,
   "id": "22ebad57",
   "metadata": {},
   "outputs": [
    {
     "name": "stdout",
     "output_type": "stream",
     "text": [
      "Hello World\n"
     ]
    }
   ],
   "source": [
    "print(\"Hello World\")\n"
   ]
  },
  {
   "cell_type": "code",
   "execution_count": 2,
   "id": "44f60854",
   "metadata": {},
   "outputs": [
    {
     "name": "stdout",
     "output_type": "stream",
     "text": [
      "Python version: 3.11.5 | packaged by Anaconda, Inc. | (main, Sep 11 2023, 13:26:23) [MSC v.1916 64 bit (AMD64)]\n"
     ]
    }
   ],
   "source": [
    "import sys\n",
    "\n",
    "# Print only the Python version as a string\n",
    "print(\"Python version:\", sys.version)"
   ]
  },
  {
   "cell_type": "markdown",
   "id": "de6850f7",
   "metadata": {},
   "source": [
    "### Python Indentation\n",
    "- Indentation refers to the spaces at the beginning of a code line.\n",
    "- Python uses indentation to indicate a block of code."
   ]
  },
  {
   "cell_type": "code",
   "execution_count": 3,
   "id": "fb535e1d",
   "metadata": {},
   "outputs": [
    {
     "name": "stdout",
     "output_type": "stream",
     "text": [
      "Ten is greater than two!\n"
     ]
    }
   ],
   "source": [
    "#with Indentation\n",
    "if 10 > 2:\n",
    "    print(\"Ten is greater than two!\")"
   ]
  },
  {
   "cell_type": "code",
   "execution_count": 4,
   "id": "7b0543c1",
   "metadata": {},
   "outputs": [
    {
     "ename": "IndentationError",
     "evalue": "expected an indented block after 'if' statement on line 2 (1065231663.py, line 3)",
     "output_type": "error",
     "traceback": [
      "\u001b[1;36m  Cell \u001b[1;32mIn[4], line 3\u001b[1;36m\u001b[0m\n\u001b[1;33m    print(\"Five is greater than two!\")\u001b[0m\n\u001b[1;37m    ^\u001b[0m\n\u001b[1;31mIndentationError\u001b[0m\u001b[1;31m:\u001b[0m expected an indented block after 'if' statement on line 2\n"
     ]
    }
   ],
   "source": [
    "# Without Indentation\n",
    "if 5 > 2:\n",
    "print(\"Five is greater than two!\")"
   ]
  },
  {
   "cell_type": "markdown",
   "id": "32b5ea47",
   "metadata": {},
   "source": [
    "### Python Comments\n",
    "- Comments can be used to explain Python code.\n",
    "- Comments can be used to make the code more readable.\n",
    "- Comments starts with a #, and Python will ignore them"
   ]
  },
  {
   "cell_type": "code",
   "execution_count": 5,
   "id": "d48e879d",
   "metadata": {},
   "outputs": [
    {
     "name": "stdout",
     "output_type": "stream",
     "text": [
      "Hello, World!\n"
     ]
    }
   ],
   "source": [
    "#This is a comment\n",
    "print(\"Hello, World!\")"
   ]
  },
  {
   "cell_type": "code",
   "execution_count": 6,
   "id": "860573a9",
   "metadata": {},
   "outputs": [
    {
     "name": "stdout",
     "output_type": "stream",
     "text": [
      "Hello, World!\n"
     ]
    }
   ],
   "source": [
    "print(\"Hello, World!\") #This is a comment"
   ]
  },
  {
   "cell_type": "markdown",
   "id": "d62e071f",
   "metadata": {},
   "source": [
    "### Multiline Comments\n",
    "- Python does not really have a syntax for multiline comments.\n",
    "- To add a multiline comment you could insert a # for each line:"
   ]
  },
  {
   "cell_type": "code",
   "execution_count": 7,
   "id": "a0329bac",
   "metadata": {},
   "outputs": [
    {
     "name": "stdout",
     "output_type": "stream",
     "text": [
      "Hello, World!\n"
     ]
    }
   ],
   "source": [
    "#This is a comment\n",
    "#written in\n",
    "#more than just one line\n",
    "print(\"Hello, World!\")"
   ]
  },
  {
   "cell_type": "markdown",
   "id": "be968b9d",
   "metadata": {},
   "source": [
    "## Python Identifiers\n",
    "- A Python identifier is a name used to identify a variable, function, class, module or other object.\n",
    "- An identifier starts with a letter A to Z or a to z or an underscore (_) followed by zero or more letters, underscores and digits (0 to 9).\n",
    "- Python is a case sensitive programming language. Thus, 'Manpower' and 'manpower' are two different identifiers in Python.\n",
    "\n",
    "\n",
    "## Python keywords\n",
    "\n",
    "- python keywords are Reserved Words\n",
    "- you cannot use them as constant or variable or any other identifier names.\n",
    "- All the Python keywords contain lowercase letters"
   ]
  },
  {
   "cell_type": "code",
   "execution_count": 8,
   "id": "2a3dbe37",
   "metadata": {},
   "outputs": [
    {
     "name": "stdout",
     "output_type": "stream",
     "text": [
      "['False', 'None', 'True', 'and', 'as', 'assert', 'async', 'await', 'break', 'class', 'continue', 'def', 'del', 'elif', 'else', 'except', 'finally', 'for', 'from', 'global', 'if', 'import', 'in', 'is', 'lambda', 'nonlocal', 'not', 'or', 'pass', 'raise', 'return', 'try', 'while', 'with', 'yield']\n"
     ]
    },
    {
     "data": {
      "text/plain": [
       "35"
      ]
     },
     "execution_count": 8,
     "metadata": {},
     "output_type": "execute_result"
    }
   ],
   "source": [
    "import keyword\n",
    "\n",
    "# Get the list of Python keywords\n",
    "python_keywords = keyword.kwlist\n",
    "\n",
    "# Display the list of keywords\n",
    "print(python_keywords)\n",
    "\n",
    "len(python_keywords)"
   ]
  },
  {
   "cell_type": "markdown",
   "id": "3c861d26",
   "metadata": {},
   "source": [
    "# Python Variables\n",
    "- Python variables are the reserved memory locations used to store values with in a Python Program.\n",
    "- This means that when you create a variable you reserve some space in the memory.\n",
    "- Variables are containers for storing data values."
   ]
  },
  {
   "cell_type": "code",
   "execution_count": 9,
   "id": "dfb6505a",
   "metadata": {},
   "outputs": [
    {
     "name": "stdout",
     "output_type": "stream",
     "text": [
      "10\n"
     ]
    }
   ],
   "source": [
    "# creating a Variable\n",
    "\n",
    "a = 10\n",
    "print(a)\n",
    "# where 'a' is variable when is store a Value '10' by assign in it"
   ]
  },
  {
   "cell_type": "markdown",
   "id": "ec3311cb",
   "metadata": {},
   "source": [
    "## Rules to Create a Variables\n",
    "- A variable name can only contain alpha-numeric characters and underscores (A-z, 0-9, and _ )\n",
    "- A variable name cannot start with a number or any special character like $, (, * % etc.\n",
    "- Python reserved keywords cannot be used naming the variable.\n",
    "- Python variable names are case-sensitive which means Name and NAME are two different variables in Python.\n",
    "- Variable name can't start with Digits"
   ]
  },
  {
   "cell_type": "code",
   "execution_count": 10,
   "id": "ae41b1a4",
   "metadata": {},
   "outputs": [],
   "source": [
    "#vaild Variables\n",
    "\n",
    "var = 13\n",
    "var_3 = 'Python'\n",
    "_var = 'Welcome to Data Science Course'"
   ]
  },
  {
   "cell_type": "code",
   "execution_count": 11,
   "id": "e2357caa",
   "metadata": {},
   "outputs": [
    {
     "ename": "SyntaxError",
     "evalue": "invalid decimal literal (1974724320.py, line 3)",
     "output_type": "error",
     "traceback": [
      "\u001b[1;36m  Cell \u001b[1;32mIn[11], line 3\u001b[1;36m\u001b[0m\n\u001b[1;33m    1_var = 565\u001b[0m\n\u001b[1;37m     ^\u001b[0m\n\u001b[1;31mSyntaxError\u001b[0m\u001b[1;31m:\u001b[0m invalid decimal literal\n"
     ]
    }
   ],
   "source": [
    "#invaild Variables\n",
    "\n",
    "1_var = 565\n",
    "@var = 'Data'\n",
    "for = 'Python'"
   ]
  },
  {
   "cell_type": "code",
   "execution_count": 12,
   "id": "b7f06d5b",
   "metadata": {},
   "outputs": [
    {
     "name": "stdout",
     "output_type": "stream",
     "text": [
      "<class 'int'>\n",
      "<class 'str'>\n"
     ]
    }
   ],
   "source": [
    "#You can get the data type of a variable with the type() function.\n",
    "x = 57\n",
    "y = \"Data science\"\n",
    "print(type(x))\n",
    "print(type(y))"
   ]
  },
  {
   "cell_type": "markdown",
   "id": "b50b900b",
   "metadata": {},
   "source": [
    "### Multiple Variables "
   ]
  },
  {
   "cell_type": "code",
   "execution_count": 13,
   "id": "41c6a9ea",
   "metadata": {},
   "outputs": [
    {
     "name": "stdout",
     "output_type": "stream",
     "text": [
      "Apple\n",
      "Banana\n",
      "Cherry\n"
     ]
    }
   ],
   "source": [
    "x, y, z = \"Apple\", \"Banana\", \"Cherry\"\n",
    "\n",
    "print(x)\n",
    "print(y)\n",
    "print(z)\n"
   ]
  },
  {
   "cell_type": "code",
   "execution_count": 14,
   "id": "0de64e1b",
   "metadata": {},
   "outputs": [
    {
     "name": "stdout",
     "output_type": "stream",
     "text": [
      "100\n",
      "100\n",
      "100\n"
     ]
    }
   ],
   "source": [
    "#One Value to Multiple Variables\n",
    "x=y=z = 100\n",
    "print(x)\n",
    "print(y)\n",
    "print(z)"
   ]
  },
  {
   "cell_type": "markdown",
   "id": "1ca43e2c",
   "metadata": {},
   "source": [
    "## Unpack a Collection¶\n",
    "If you have a collection of values in a list, tuple etc. Python allows you to extract the values into variables. This is called unpacking."
   ]
  },
  {
   "cell_type": "code",
   "execution_count": 15,
   "id": "95ac7ae9",
   "metadata": {},
   "outputs": [
    {
     "name": "stdout",
     "output_type": "stream",
     "text": [
      "apple\n",
      "banana\n",
      "cherry\n"
     ]
    }
   ],
   "source": [
    "fruits = [\"apple\", \"banana\", \"cherry\"]\n",
    "x, y, z = fruits\n",
    "print(x)\n",
    "print(y)\n",
    "print(z)"
   ]
  },
  {
   "cell_type": "markdown",
   "id": "dc57afa2",
   "metadata": {},
   "source": [
    "# Python Data Types\n",
    "\n",
    "- It defines what type of data we are going to store in a variable.\n",
    "- The data stored in memory can be of many types.\n",
    "- Python has various built-in data types\n",
    "\n",
    "-- Data Type --> Examples\n",
    "\n",
    "- Numeric --> int, float, complex\n",
    "- String --> str\n",
    "- Sequence --> list, tuple, range\n",
    "- Mapping --> dict\n",
    "- Boolean --> bool\n",
    "- Set --> set,frozenset"
   ]
  },
  {
   "cell_type": "markdown",
   "id": "a421e26b",
   "metadata": {},
   "source": [
    "## Python Numbers\n",
    "There are three numeric types in Python:\n",
    "\n",
    "- int\n",
    "- float\n",
    "- complex"
   ]
  },
  {
   "cell_type": "code",
   "execution_count": 16,
   "id": "52cd68c4",
   "metadata": {},
   "outputs": [],
   "source": [
    "x = 1    # int\n",
    "y = 2.8  # float\n",
    "z = 1j   # complex"
   ]
  },
  {
   "cell_type": "code",
   "execution_count": 17,
   "id": "90ff2436",
   "metadata": {},
   "outputs": [
    {
     "name": "stdout",
     "output_type": "stream",
     "text": [
      "<class 'int'>\n",
      "<class 'float'>\n",
      "<class 'complex'>\n"
     ]
    }
   ],
   "source": [
    "print(type(x))\n",
    "print(type(y))\n",
    "print(type(z))"
   ]
  },
  {
   "cell_type": "markdown",
   "id": "2f230c03",
   "metadata": {},
   "source": [
    "## Type Conversion\n",
    "- You can convert from one type to another with the int(), float(), and complex() methods\n",
    "- Note: You cannot convert complex numbers into another number type."
   ]
  },
  {
   "cell_type": "code",
   "execution_count": 18,
   "id": "92733449",
   "metadata": {},
   "outputs": [
    {
     "name": "stdout",
     "output_type": "stream",
     "text": [
      "1.0\n",
      "2\n",
      "(2.8+0j)\n",
      "<class 'float'>\n",
      "<class 'int'>\n",
      "<class 'complex'>\n"
     ]
    }
   ],
   "source": [
    "x = 1    # int\n",
    "y = 2.8  # float\n",
    "z = 1j   # complex\n",
    "\n",
    "#convert from int to float:\n",
    "a = float(x)\n",
    "\n",
    "#convert from float to int:\n",
    "b = int(y)\n",
    "\n",
    "#convert from int to complex:\n",
    "c = complex(y)\n",
    "\n",
    "print(a)\n",
    "print(b)\n",
    "print(c)\n",
    "\n",
    "print(type(a))\n",
    "print(type(b))\n",
    "print(type(c))"
   ]
  },
  {
   "cell_type": "markdown",
   "id": "d3b3f44e",
   "metadata": {},
   "source": [
    "## Python Booleans\n",
    "Booleans represent one of two values: True or False."
   ]
  },
  {
   "cell_type": "code",
   "execution_count": 19,
   "id": "b0bfaa28",
   "metadata": {},
   "outputs": [
    {
     "name": "stdout",
     "output_type": "stream",
     "text": [
      "True\n",
      "False\n",
      "True\n"
     ]
    }
   ],
   "source": [
    "print(15 > 9)\n",
    "print(13 == 9)\n",
    "print(1 < 9)"
   ]
  },
  {
   "cell_type": "markdown",
   "id": "d4ce0039",
   "metadata": {},
   "source": [
    "## Evaluate Values and Variables\n",
    "The bool() function allows you to evaluate any value, and give you True or False in return,"
   ]
  },
  {
   "cell_type": "code",
   "execution_count": 20,
   "id": "210de937",
   "metadata": {},
   "outputs": [
    {
     "name": "stdout",
     "output_type": "stream",
     "text": [
      "True\n",
      "True\n"
     ]
    }
   ],
   "source": [
    "print(bool(\"Hello\"))\n",
    "print(bool(98765))"
   ]
  },
  {
   "cell_type": "markdown",
   "id": "b57fd8fe",
   "metadata": {},
   "source": [
    "# Python Operators"
   ]
  },
  {
   "cell_type": "markdown",
   "id": "606db7c5",
   "metadata": {},
   "source": [
    "Operators are used to perform operations on variables and values.\n",
    "\n",
    "Python divides the operators in the following groups:\n",
    "\n",
    "- Arithmetic operators\n",
    "- Assignment operators\n",
    "- Comparison operators\n",
    "- Logical operators\n",
    "- Identity operators\n",
    "- Membership operators\n",
    "- Bitwise operators"
   ]
  },
  {
   "cell_type": "markdown",
   "id": "d1a2776f",
   "metadata": {},
   "source": [
    "## Python Arithmetic Operators\n",
    "\n",
    "+ (addition)\n",
    "- (subtraction)\n",
    "* (multiplication)\n",
    "- / (division)\n",
    "- % (modulo - returns the remainder of the division)\n",
    "- ** (exponentiation)"
   ]
  },
  {
   "cell_type": "code",
   "execution_count": 22,
   "id": "af5b292e",
   "metadata": {},
   "outputs": [
    {
     "name": "stdout",
     "output_type": "stream",
     "text": [
      "13\n",
      "7\n",
      "30\n",
      "3.3333333333333335\n",
      "1\n",
      "1000\n"
     ]
    }
   ],
   "source": [
    "a = 10\n",
    "b = 3\n",
    "print(a + b)  # 13\n",
    "print(a - b)  # 7\n",
    "print(a * b)  # 30\n",
    "print(a / b)  # 3.3333333333333335\n",
    "print(a % b)  # 1\n",
    "print(a ** b) # 1000\n"
   ]
  },
  {
   "cell_type": "raw",
   "id": "ee407951",
   "metadata": {},
   "source": [
    "## Comparison Operators:\n",
    "\n",
    "- == (equal to)\n",
    "- != (not equal to)\n",
    "- < (less than)\n",
    "- > (greater than)\n",
    "- <= (less than or equal to)\n",
    "- >= (greater than or equal to)"
   ]
  },
  {
   "cell_type": "code",
   "execution_count": 23,
   "id": "bb0bfc6d",
   "metadata": {},
   "outputs": [
    {
     "name": "stdout",
     "output_type": "stream",
     "text": [
      "False\n",
      "True\n",
      "True\n",
      "False\n",
      "True\n",
      "False\n"
     ]
    }
   ],
   "source": [
    "x = 5\n",
    "y = 8\n",
    "print(x == y)  # False\n",
    "print(x != y)  # True\n",
    "print(x < y)   # True\n",
    "print(x > y)   # False\n",
    "print(x <= y)  # True\n",
    "print(x >= y)  # False\n"
   ]
  },
  {
   "cell_type": "raw",
   "id": "6d45aba5",
   "metadata": {},
   "source": [
    "# Logical Operators:\n",
    "\n",
    "and (logical AND)\n",
    "or (logical OR)\n",
    "not (logical NOT)"
   ]
  },
  {
   "cell_type": "code",
   "execution_count": 24,
   "id": "6bbd2c87",
   "metadata": {},
   "outputs": [
    {
     "name": "stdout",
     "output_type": "stream",
     "text": [
      "False\n",
      "True\n",
      "False\n"
     ]
    }
   ],
   "source": [
    "p = True\n",
    "q = False\n",
    "print(p and q)  # False\n",
    "print(p or q)   # True\n",
    "print(not p)    # False\n"
   ]
  },
  {
   "cell_type": "raw",
   "id": "22db4971",
   "metadata": {},
   "source": [
    "Assignment Operators:\n",
    "\n",
    "= (assignment)\n",
    "+= (add and assign)\n",
    "-= (subtract and assign)\n",
    "*= (multiply and assign)\n",
    "/= (divide and assign)\n",
    "%= (calculate modulo and assign)\n",
    "**= (exponentiate and assign)"
   ]
  },
  {
   "cell_type": "code",
   "execution_count": 25,
   "id": "4c622c61",
   "metadata": {},
   "outputs": [
    {
     "name": "stdout",
     "output_type": "stream",
     "text": [
      "15\n"
     ]
    }
   ],
   "source": [
    "x = 10\n",
    "x += 5  # equivalent to x = x + 5\n",
    "print(x)  # 15\n"
   ]
  },
  {
   "cell_type": "raw",
   "id": "a14b7fd3",
   "metadata": {},
   "source": [
    "# Identity Operators:\n",
    "\n",
    "is (True if the operands are identical)\n",
    "is not (True if the operands are not identical)"
   ]
  },
  {
   "cell_type": "code",
   "execution_count": 26,
   "id": "cbe3c99d",
   "metadata": {},
   "outputs": [
    {
     "name": "stdout",
     "output_type": "stream",
     "text": [
      "True\n"
     ]
    }
   ],
   "source": [
    "a = [1, 2, 3]\n",
    "b = a\n",
    "print(a is b)  # True\n"
   ]
  },
  {
   "cell_type": "raw",
   "id": "7b50cf69",
   "metadata": {},
   "source": [
    "Membership Operators:\n",
    "\n",
    "in (True if a value is found in the sequence)\n",
    "not in (True if a value is not found in the sequence)"
   ]
  },
  {
   "cell_type": "code",
   "execution_count": 27,
   "id": "c6d6d640",
   "metadata": {},
   "outputs": [
    {
     "name": "stdout",
     "output_type": "stream",
     "text": [
      "True\n",
      "True\n"
     ]
    }
   ],
   "source": [
    "myList = [1, 2, 3, 4]\n",
    "print(3 in myList)    # True\n",
    "print(5 not in myList) # True\n"
   ]
  },
  {
   "cell_type": "raw",
   "id": "e2f522b9",
   "metadata": {},
   "source": [
    "Bitwise Operators:\n",
    "\n",
    "& (bitwise AND)\n",
    "| (bitwise OR)\n",
    "^ (bitwise XOR)\n",
    "~ (bitwise NOT)\n",
    "<< (left shift)\n",
    ">> (right shift)"
   ]
  },
  {
   "cell_type": "code",
   "execution_count": 28,
   "id": "484aa452",
   "metadata": {},
   "outputs": [
    {
     "name": "stdout",
     "output_type": "stream",
     "text": [
      "1\n"
     ]
    }
   ],
   "source": [
    "a = 5  # 0b0101 in binary\n",
    "b = 3  # 0b0011 in binary\n",
    "print(a & b)  # 1 (0b0001 in binary)\n"
   ]
  },
  {
   "cell_type": "markdown",
   "id": "2d00c625",
   "metadata": {},
   "source": [
    "# Precedence in python"
   ]
  },
  {
   "cell_type": "raw",
   "id": "d09936be",
   "metadata": {},
   "source": [
    "Here is a general overview of operator precedence in Python, from highest to lowest precedence:\n",
    "\n",
    "Parentheses:\n",
    "\n",
    "()\n",
    "\n",
    "Exponentiation:\n",
    "\n",
    "**\n",
    "\n",
    "Unary plus and minus:\n",
    "\n",
    "+x, -x\n",
    "\n",
    "Multiplication, division, and modulo:\n",
    "\n",
    "*, /, %\n",
    "\n",
    "Addition and subtraction:\n",
    "\n",
    "+, -\n",
    "\n",
    "Bitwise shift operators:\n",
    "\n",
    "<<, >>\n",
    "\n",
    "Bitwise AND, XOR, and OR:\n",
    "\n",
    "&, ^, |\n",
    "\n",
    "Comparison operators:\n",
    "\n",
    "==, !=, <, >, <=, >=, is, is not\n",
    "\n",
    "Logical NOT:\n",
    "\n",
    "not\n",
    "\n",
    "Logical AND:\n",
    "\n",
    "and\n",
    "\n",
    "Logical OR:\n",
    "\n",
    "or\n",
    "\n",
    "Conditional expression (ternary operator):\n",
    "\n",
    "x if condition else y\n",
    "\n",
    "Assignment operators:\n",
    "\n",
    "=, +=, -=, *=, /=, %=, **=, &=, |=, ^=, <<=, >>="
   ]
  },
  {
   "cell_type": "code",
   "execution_count": 29,
   "id": "1d4368cb",
   "metadata": {},
   "outputs": [],
   "source": [
    "result = 2 + 3 * 4  # Multiplication has higher precedence\n",
    "# Result is 14 (2 + (3 * 4))\n",
    "\n",
    "result = (2 + 3) * 4  # Parentheses override precedence\n",
    "# Result is 20 ((2 + 3) * 4)\n"
   ]
  },
  {
   "cell_type": "code",
   "execution_count": null,
   "id": "aada6db9",
   "metadata": {},
   "outputs": [],
   "source": []
  },
  {
   "attachments": {
    "81f692a2f244f8c9e09910de2fdc63a4.jpg": {
     "image/jpeg": "[encoded data removed]"
    }
   },
   "cell_type": "markdown",
   "id": "8456d5b3",
   "metadata": {},
   "source": [
    "![81f692a2f244f8c9e09910de2fdc63a4.jpg](attachment:81f692a2f244f8c9e09910de2fdc63a4.jpg)"
   ]
  },
  {
   "cell_type": "markdown",
   "id": "d8176757",
   "metadata": {},
   "source": [
    "# Follow Us on Social Media"
   ]
  },
  {
   "cell_type": "markdown",
   "id": "7e04cd2a",
   "metadata": {},
   "source": [
    "Linkedin: https://www.linkedin.com/company/eternaltek/about/?viewAsMember=true\n",
    "\n",
    "\n",
    "\n",
    "Medium: https://medium.com/@eternaltek.info\n",
    "\n",
    "\n",
    "WhatsApp Channel: https://whatsapp.com/channel/0029Va5onCbDjiOTi6D1vU36"
   ]
  },
  {
   "cell_type": "code",
   "execution_count": 31,
   "id": "20624454",
   "metadata": {},
   "outputs": [
    {
     "name": "stdout",
     "output_type": "stream",
     "text": [
      "Requirement already satisfied: nbconvert in c:\\users\\teks108\\anaconda3\\lib\\site-packages (6.5.4)\n",
      "Requirement already satisfied: lxml in c:\\users\\teks108\\anaconda3\\lib\\site-packages (from nbconvert) (4.9.3)\n",
      "Requirement already satisfied: beautifulsoup4 in c:\\users\\teks108\\anaconda3\\lib\\site-packages (from nbconvert) (4.12.2)\n",
      "Requirement already satisfied: bleach in c:\\users\\teks108\\anaconda3\\lib\\site-packages (from nbconvert) (4.1.0)\n",
      "Requirement already satisfied: defusedxml in c:\\users\\teks108\\anaconda3\\lib\\site-packages (from nbconvert) (0.7.1)\n",
      "Requirement already satisfied: entrypoints>=0.2.2 in c:\\users\\teks108\\anaconda3\\lib\\site-packages (from nbconvert) (0.4)\n",
      "Requirement already satisfied: jinja2>=3.0 in c:\\users\\teks108\\anaconda3\\lib\\site-packages (from nbconvert) (3.1.2)\n",
      "Requirement already satisfied: jupyter-core>=4.7 in c:\\users\\teks108\\anaconda3\\lib\\site-packages (from nbconvert) (5.3.0)\n",
      "Requirement already satisfied: jupyterlab-pygments in c:\\users\\teks108\\anaconda3\\lib\\site-packages (from nbconvert) (0.1.2)\n",
      "Requirement already satisfied: MarkupSafe>=2.0 in c:\\users\\teks108\\anaconda3\\lib\\site-packages (from nbconvert) (2.1.1)\n",
      "Requirement already satisfied: mistune<2,>=0.8.1 in c:\\users\\teks108\\anaconda3\\lib\\site-packages (from nbconvert) (0.8.4)\n",
      "Requirement already satisfied: nbclient>=0.5.0 in c:\\users\\teks108\\anaconda3\\lib\\site-packages (from nbconvert) (0.5.13)\n",
      "Requirement already satisfied: nbformat>=5.1 in c:\\users\\teks108\\anaconda3\\lib\\site-packages (from nbconvert) (5.9.2)\n",
      "Requirement already satisfied: packaging in c:\\users\\teks108\\anaconda3\\lib\\site-packages (from nbconvert) (23.1)\n",
      "Requirement already satisfied: pandocfilters>=1.4.1 in c:\\users\\teks108\\anaconda3\\lib\\site-packages (from nbconvert) (1.5.0)\n",
      "Requirement already satisfied: pygments>=2.4.1 in c:\\users\\teks108\\anaconda3\\lib\\site-packages (from nbconvert) (2.15.1)\n",
      "Requirement already satisfied: tinycss2 in c:\\users\\teks108\\anaconda3\\lib\\site-packages (from nbconvert) (1.2.1)\n",
      "Requirement already satisfied: traitlets>=5.0 in c:\\users\\teks108\\anaconda3\\lib\\site-packages (from nbconvert) (5.7.1)\n",
      "Requirement already satisfied: platformdirs>=2.5 in c:\\users\\teks108\\anaconda3\\lib\\site-packages (from jupyter-core>=4.7->nbconvert) (3.10.0)\n",
      "Requirement already satisfied: pywin32>=300 in c:\\users\\teks108\\anaconda3\\lib\\site-packages (from jupyter-core>=4.7->nbconvert) (305.1)\n",
      "Requirement already satisfied: jupyter-client>=6.1.5 in c:\\users\\teks108\\anaconda3\\lib\\site-packages (from nbclient>=0.5.0->nbconvert) (7.4.9)\n",
      "Requirement already satisfied: nest-asyncio in c:\\users\\teks108\\anaconda3\\lib\\site-packages (from nbclient>=0.5.0->nbconvert) (1.5.6)\n",
      "Requirement already satisfied: fastjsonschema in c:\\users\\teks108\\anaconda3\\lib\\site-packages (from nbformat>=5.1->nbconvert) (2.16.2)\n",
      "Requirement already satisfied: jsonschema>=2.6 in c:\\users\\teks108\\anaconda3\\lib\\site-packages (from nbformat>=5.1->nbconvert) (4.17.3)\n",
      "Requirement already satisfied: soupsieve>1.2 in c:\\users\\teks108\\anaconda3\\lib\\site-packages (from beautifulsoup4->nbconvert) (2.4)\n",
      "Requirement already satisfied: six>=1.9.0 in c:\\users\\teks108\\anaconda3\\lib\\site-packages (from bleach->nbconvert) (1.16.0)\n",
      "Requirement already satisfied: webencodings in c:\\users\\teks108\\anaconda3\\lib\\site-packages (from bleach->nbconvert) (0.5.1)\n",
      "Requirement already satisfied: attrs>=17.4.0 in c:\\users\\teks108\\anaconda3\\lib\\site-packages (from jsonschema>=2.6->nbformat>=5.1->nbconvert) (22.1.0)\n",
      "Requirement already satisfied: pyrsistent!=0.17.0,!=0.17.1,!=0.17.2,>=0.14.0 in c:\\users\\teks108\\anaconda3\\lib\\site-packages (from jsonschema>=2.6->nbformat>=5.1->nbconvert) (0.18.0)\n",
      "Requirement already satisfied: python-dateutil>=2.8.2 in c:\\users\\teks108\\anaconda3\\lib\\site-packages (from jupyter-client>=6.1.5->nbclient>=0.5.0->nbconvert) (2.8.2)\n",
      "Requirement already satisfied: pyzmq>=23.0 in c:\\users\\teks108\\anaconda3\\lib\\site-packages (from jupyter-client>=6.1.5->nbclient>=0.5.0->nbconvert) (23.2.0)\n",
      "Requirement already satisfied: tornado>=6.2 in c:\\users\\teks108\\anaconda3\\lib\\site-packages (from jupyter-client>=6.1.5->nbclient>=0.5.0->nbconvert) (6.3.2)\n"
     ]
    }
   ],
   "source": [
    "!pip install nbconvert"
   ]
  },
  {
   "cell_type": "code",
   "execution_count": null,
   "id": "24c99aee",
   "metadata": {},
   "outputs": [],
   "source": []
  }
 ],
 "metadata": {
  "kernelspec": {
   "display_name": "Python 3 (ipykernel)",
   "language": "python",
   "name": "python3"
  },
  "language_info": {
   "codemirror_mode": {
    "name": "ipython",
    "version": 3
   },
   "file_extension": ".py",
   "mimetype": "text/x-python",
   "name": "python",
   "nbconvert_exporter": "python",
   "pygments_lexer": "ipython3",
   "version": "3.11.5"
  }
 },
 "nbformat": 4,
 "nbformat_minor": 5
}
