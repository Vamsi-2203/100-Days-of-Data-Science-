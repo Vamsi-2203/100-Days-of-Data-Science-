{
 "cells": [
  {
   "cell_type": "markdown",
   "id": "16cc45f3",
   "metadata": {},
   "source": [
    "# Day 13-100 of Data Science \n",
    "\n",
    "### by Eternaltek (Vamsidhar Reddy)"
   ]
  },
  {
   "cell_type": "markdown",
   "id": "a901a61e",
   "metadata": {},
   "source": [
    "# Python Projects"
   ]
  },
  {
   "cell_type": "markdown",
   "id": "787edc52",
   "metadata": {},
   "source": [
    "## 1 Number guessing game "
   ]
  },
  {
   "cell_type": "code",
   "execution_count": 10,
   "id": "ab6c87b2",
   "metadata": {},
   "outputs": [
    {
     "name": "stdout",
     "output_type": "stream",
     "text": [
      "Enter Lower bound:- 4\n",
      "Enter Upper bound:- 9\n",
      "\n",
      "\tYou've only  3  chances to guess the integer!\n",
      "\n",
      "Guess a number:- 5\n",
      "You guessed too small!\n",
      "Guess a number:- 9\n",
      "You Guessed too high!\n",
      "Guess a number:- 2\n",
      "You guessed too small!\n",
      "\n",
      "The number is 6\n",
      "\tBetter Luck Next time!\n"
     ]
    }
   ],
   "source": [
    "import random\n",
    "import math\n",
    "# Taking Inputs\n",
    "lower = int(input(\"Enter Lower bound:- \"))\n",
    "\n",
    "# Taking Inputs\n",
    "upper = int(input(\"Enter Upper bound:- \"))\n",
    "\n",
    "# generating random number between\n",
    "# the lower and upper\n",
    "x = random.randint(lower, upper)\n",
    "print(\"\\n\\tYou've only \", \n",
    "    round(math.log(upper - lower + 1, 2)),\" chances to guess the integer!\\n\")\n",
    "\n",
    "# Initializing the number of guesses.\n",
    "count = 0\n",
    "\n",
    "# for calculation of minimum number of\n",
    "# guesses depends upon range\n",
    "while count < math.log(upper - lower + 1, 2):\n",
    "    count += 1\n",
    "\n",
    "    # taking guessing number as input\n",
    "    guess = int(input(\"Guess a number:- \"))\n",
    "\n",
    "    # Condition testing\n",
    "    if x == guess:\n",
    "        print(\"Congratulations you did it in \",count, \" try\")\n",
    "# Once guessed, loop will break\n",
    "        break\n",
    "    elif x > guess:\n",
    "        print(\"You guessed too small!\")\n",
    "    elif x < guess:\n",
    "        print(\"You Guessed too high!\")\n",
    "\n",
    "# If Guessing is more than required guesses,\n",
    "# shows this output.\n",
    "if count >= math.log(upper - lower + 1, 2):\n",
    "    print(\"\\nThe number is %d\" % x)\n",
    "    print(\"\\tBetter Luck Next time!\")\n",
    "\n",
    "# Better to use This source Code on pycharm!\n"
   ]
  },
  {
   "cell_type": "markdown",
   "id": "ae3f4d01",
   "metadata": {},
   "source": [
    "## 2 Password Generator"
   ]
  },
  {
   "cell_type": "code",
   "execution_count": 15,
   "id": "f379b7e5",
   "metadata": {},
   "outputs": [
    {
     "name": "stdout",
     "output_type": "stream",
     "text": [
      "ER\n"
     ]
    }
   ],
   "source": [
    "import random\n",
    "\n",
    "#A function do shuffle all the characters of a string\n",
    "def shuffle(string):\n",
    "    tempList = list(string)\n",
    "    random.shuffle(tempList)\n",
    "    return ''.join(tempList)\n",
    "\n",
    "#Main program starts here\n",
    "uppercaseLetter1=chr(random.randint(65,90)) #Generate a random Uppercase letter (based on ASCII code)\n",
    "uppercaseLetter2=chr(random.randint(65,90)) #Generate a random Uppercase letter (based on ASCII code)\n",
    "#Generate more characters here\n",
    "#....\n",
    "\n",
    "#Generate password using all the characters, in random order\n",
    "password = uppercaseLetter1 + uppercaseLetter2 # + ....\n",
    "password = shuffle(password)\n",
    "\n",
    "#Ouput\n",
    "print(password)"
   ]
  },
  {
   "cell_type": "markdown",
   "id": "809e3baa",
   "metadata": {},
   "source": [
    "## 3 Rock, Paper, Scissors Game"
   ]
  },
  {
   "cell_type": "code",
   "execution_count": null,
   "id": "4a21c3be",
   "metadata": {},
   "outputs": [
    {
     "name": "stdout",
     "output_type": "stream",
     "text": [
      "Rock, paper, Scissors?dtyy\n",
      "That's not a valid play. Check your spelling!\n",
      "Rock, paper, Scissors?ftyui\n",
      "That's not a valid play. Check your spelling!\n",
      "Rock, paper, Scissors?78'\n",
      "That's not a valid play. Check your spelling!\n",
      "Rock, paper, Scissors?78o'\n",
      "That's not a valid play. Check your spelling!\n"
     ]
    }
   ],
   "source": [
    "from random import randint\n",
    "\n",
    "#create a list of play options\n",
    "t = [\"Rock\", \"Paper\", \"Scissors\"]\n",
    "\n",
    "#assign a random play to the computer\n",
    "computer = t[randint(0,2)]\n",
    "\n",
    "#set player to False\n",
    "player = False\n",
    "\n",
    "while player == False:\n",
    "#set player to True\n",
    "    player = input(\"Rock, paper, Scissors?\")\n",
    "    if player == computer:\n",
    "        print(\"Tie!\")\n",
    "    elif player == \"Rock\":\n",
    "        if computer == \"Paper\":\n",
    "            print(\"You lose!\", computer, \"covers\", player)\n",
    "        else:\n",
    "            print(\"You win!\", player, \"smashes\", computer)\n",
    "    elif player == \"Paper\":\n",
    "        if computer == \"Scissors\":\n",
    "            print(\"You lose!\", computer, \"cut\", player)\n",
    "        else:\n",
    "            print(\"You win!\", player, \"covers\", computer)\n",
    "    elif player == \"Scissors\":\n",
    "        if computer == \"Rock\":\n",
    "            print(\"You lose...\", computer, \"smashes\", player)\n",
    "        else:\n",
    "            print(\"You win!\", player, \"cut\", computer)\n",
    "    else:\n",
    "        print(\"That's not a valid play. Check your spelling!\")\n",
    "    #player was set to True, but we want it to be False so the loop continues\n",
    "    player = False\n",
    "    computer = t[randint(0,2)]"
   ]
  },
  {
   "cell_type": "markdown",
   "id": "be5056db",
   "metadata": {},
   "source": [
    "## 4 Currency Converter"
   ]
  },
  {
   "cell_type": "code",
   "execution_count": null,
   "id": "abb7752d",
   "metadata": {},
   "outputs": [],
   "source": [
    "# # Python Project on Currency Converter\n",
    "\n",
    "import requests\n",
    "from tkinter import *\n",
    "import tkinter as tk\n",
    "from tkinter import ttk\n",
    "\n",
    "\n",
    "class RealTimeCurrencyConverter():\n",
    "    def __init__(self,url):\n",
    "            self.data = requests.get(url).json()\n",
    "            self.currencies = self.data['rates']\n",
    "\n",
    "    def convert(self, from_currency, to_currency, amount): \n",
    "        initial_amount = amount \n",
    "        if from_currency != 'USD' : \n",
    "            amount = amount / self.currencies[from_currency] \n",
    "  \n",
    "        # limiting the precision to 4 decimal places \n",
    "        amount = round(amount * self.currencies[to_currency], 4) \n",
    "        return amount\n",
    "\n",
    "class App(tk.Tk):\n",
    "\n",
    "    def __init__(self, converter):\n",
    "        tk.Tk.__init__(self)\n",
    "        self.title = 'Currency Converter'\n",
    "        self.currency_converter = converter\n",
    "\n",
    "        #self.configure(background = 'blue')\n",
    "        self.geometry(\"530x200\")\n",
    "        \n",
    "        # Label\n",
    "        self.intro_label = Label(self, text = 'IT SOURCECODE Real Time Currency Converter',  fg = 'black',bg='blue', relief = tk.RAISED, borderwidth = 3)\n",
    "        self.intro_label.config(font = ('Courier',15,'bold'))\n",
    "\n",
    "        self.date_label = Label(self, text = f\" Date : {self.currency_converter.data['date']}\", relief = tk.GROOVE, borderwidth = 5)\n",
    "\n",
    "        self.intro_label.place(x = 10 , y = 5)\n",
    "        self.date_label.place(x = 200, y= 50)\n",
    "\n",
    "        # Entry box\n",
    "        valid = (self.register(self.restrictNumberOnly), '%d', '%P')\n",
    "        self.amount_field = Entry(self,bd = 3, relief = tk.RIDGE, justify = tk.CENTER,validate='key', validatecommand=valid)\n",
    "        self.converted_amount_field_label = Label(self, text = '', fg = 'black', bg = 'white', relief = tk.RIDGE, justify = tk.CENTER, width = 17, borderwidth = 3)\n",
    "\n",
    "        # dropdown\n",
    "        self.from_currency_variable = StringVar(self)\n",
    "        self.from_currency_variable.set(\"INR\") # default value\n",
    "        self.to_currency_variable = StringVar(self)\n",
    "        self.to_currency_variable.set(\"USD\") # default value\n",
    "\n",
    "        font = (\"Courier\", 12, \"bold\")\n",
    "        self.option_add('*TCombobox*Listbox.font', font)\n",
    "        self.from_currency_dropdown = ttk.Combobox(self, textvariable=self.from_currency_variable,values=list(self.currency_converter.currencies.keys()), font = font, state = 'readonly', width = 12, justify = tk.CENTER)\n",
    "        self.to_currency_dropdown = ttk.Combobox(self, textvariable=self.to_currency_variable,values=list(self.currency_converter.currencies.keys()), font = font, state = 'readonly', width = 12, justify = tk.CENTER)\n",
    "\n",
    "        # placing\n",
    "        self.from_currency_dropdown.place(x = 30, y= 120)\n",
    "        self.amount_field.place(x = 36, y = 150)\n",
    "        self.to_currency_dropdown.place(x = 340, y= 120)\n",
    "        #self.converted_amount_field.place(x = 346, y = 150)\n",
    "        self.converted_amount_field_label.place(x = 346, y = 150)\n",
    "        \n",
    "        # Convert button\n",
    "        self.convert_button = Button(self, text = \"Convert\", fg = \"black\", bg = \"green\", command = self.perform)\n",
    "        self.convert_button.config(font=('Courier', 10, 'bold'))\n",
    "        self.convert_button.place(x = 225, y = 135)\n",
    "\n",
    "    def perform(self):\n",
    "        amount = float(self.amount_field.get())\n",
    "        from_curr = self.from_currency_variable.get()\n",
    "        to_curr = self.to_currency_variable.get()\n",
    "\n",
    "        converted_amount = self.currency_converter.convert(from_curr,to_curr,amount)\n",
    "        converted_amount = round(converted_amount, 2)\n",
    "\n",
    "        self.converted_amount_field_label.config(text = str(converted_amount))\n",
    "    \n",
    "    def restrictNumberOnly(self, action, string):\n",
    "        regex = re.compile(r\"[0-9,]*?(\\.)?[0-9,]*$\")\n",
    "        result = regex.match(string)\n",
    "        return (string == \"\" or (string.count('.') <= 1 and result is not None))\n",
    "\n",
    "if __name__ == '__main__':\n",
    "    url = 'https://api.exchangerate-api.com/v4/latest/USD'\n",
    "    converter = RealTimeCurrencyConverter(url)\n",
    "\n",
    "    App(converter)\n",
    "    mainloop()"
   ]
  },
  {
   "cell_type": "markdown",
   "id": "f76180e6",
   "metadata": {},
   "source": [
    "## 5 Number Guessing "
   ]
  },
  {
   "cell_type": "code",
   "execution_count": null,
   "id": "50372d1a",
   "metadata": {},
   "outputs": [
    {
     "name": "stdout",
     "output_type": "stream",
     "text": [
      "Hello traveler! Welcome to the game of guesses!\n",
      "What is your name? Vamsidhar Reddy\n",
      "Hi, Vamsidhar Reddy, would you like to play the guessing game? (Enter Yes/No): yes\n",
      "There is currently no best score, it's yours for the taking!\n",
      "Pick a number between 1 and 10: 8\n",
      "It's higher\n",
      "Pick a number between 1 and 10: 3\n",
      "It's higher\n",
      "Pick a number between 1 and 10: 1\n",
      "It's higher\n",
      "Pick a number between 1 and 10: No\n",
      "Oh no!, that is not a valid value. Try again...\n",
      "invalid literal for int() with base 10: 'No'\n",
      "Pick a number between 1 and 10: 56\n",
      "Oh no!, that is not a valid value. Try again...\n",
      "Please guess a number within the given range\n"
     ]
    }
   ],
   "source": [
    "\n",
    "import random\n",
    "\n",
    "\n",
    "def show_score(attempts_list):\n",
    "    if not attempts_list:\n",
    "        print('There is currently no best score,'\n",
    "              ' it\\'s yours for the taking!')\n",
    "\n",
    "    else:\n",
    "        print(f'The current best score is'\n",
    "              f' {min(attempts_list)} attempts')\n",
    "\n",
    "\n",
    "def start_game():\n",
    "    attempts = 0\n",
    "    rand_num = random.randint(1, 10)\n",
    "    attempts_list = []\n",
    "\n",
    "    print('Hello traveler! Welcome to the game of guesses!')\n",
    "    player_name = input('What is your name? ')\n",
    "    wanna_play = input(\n",
    "        f'Hi, {player_name}, would you like to play '\n",
    "        f'the guessing game? (Enter Yes/No): ')\n",
    "\n",
    "    if wanna_play.lower() != 'yes':\n",
    "        print('That\\'s cool, Thanks!')\n",
    "        exit()\n",
    "    else:\n",
    "        show_score(attempts_list)\n",
    "\n",
    "    while wanna_play.lower() == 'yes':\n",
    "        try:\n",
    "            guess = int(input('Pick a number between 1 and 10: '))\n",
    "            if guess < 1 or guess > 10:\n",
    "                raise ValueError(\n",
    "                    'Please guess a number within the given range')\n",
    "\n",
    "            attempts += 1\n",
    "\n",
    "            if guess == rand_num:\n",
    "                attempts_list.append(attempts)\n",
    "                print('Nice! You got it!')\n",
    "                print(f'It took you {attempts} attempts')\n",
    "                wanna_play = input(\n",
    "                    'Would you like to play again? (Enter Yes/No): ')\n",
    "                if wanna_play.lower() != 'yes':\n",
    "                    print('That\\'s cool, have a good one!')\n",
    "                    break\n",
    "                else:\n",
    "                    attempts = 0\n",
    "                    rand_num = random.randint(1, 10)\n",
    "                    show_score(attempts_list)\n",
    "                    continue\n",
    "            else:\n",
    "                if guess > rand_num:\n",
    "                    print('It\\'s lower')\n",
    "                elif guess < rand_num:\n",
    "                    print('It\\'s higher')\n",
    "\n",
    "        except ValueError as err:\n",
    "            print('Oh no!, that is not a valid value. Try again...')\n",
    "            print(err)\n",
    "\n",
    "\n",
    "if __name__ == '__main__':\n",
    "    start_game()"
   ]
  },
  {
   "cell_type": "code",
   "execution_count": null,
   "id": "c63f29bc",
   "metadata": {},
   "outputs": [],
   "source": []
  },
  {
   "attachments": {
    "81f692a2f244f8c9e09910de2fdc63a4.jpg": {
     "image/jpeg": "[encoded data removed]"
    }
   },
   "cell_type": "markdown",
   "id": "8e55ad54",
   "metadata": {},
   "source": [
    "\n",
    "![81f692a2f244f8c9e09910de2fdc63a4.jpg](attachment:81f692a2f244f8c9e09910de2fdc63a4.jpg)"
   ]
  },
  {
   "cell_type": "code",
   "execution_count": null,
   "id": "5b1b0392",
   "metadata": {},
   "outputs": [],
   "source": []
  },
  {
   "cell_type": "markdown",
   "id": "8ed88955",
   "metadata": {},
   "source": [
    "# Follow us on Social Media"
   ]
  },
  {
   "cell_type": "markdown",
   "id": "aa0e46da",
   "metadata": {},
   "source": [
    "Linkedin: https://www.linkedin.com/company/eternaltek/about/?viewAsMember=true\n",
    "\n",
    "\n",
    "\n",
    "Medium: https://medium.com/@eternaltek.info\n",
    "\n",
    "\n",
    "WhatsApp Channel: https://whatsapp.com/channel/0029Va5onCbDjiOTi6D1vU36\n",
    "\n",
    "\n",
    "Github: https://github.com/Vamsi-2203"
   ]
  },
  {
   "cell_type": "code",
   "execution_count": null,
   "id": "7ea6ec61",
   "metadata": {},
   "outputs": [],
   "source": []
  }
 ],
 "metadata": {
  "kernelspec": {
   "display_name": "Python 3 (ipykernel)",
   "language": "python",
   "name": "python3"
  },
  "language_info": {
   "codemirror_mode": {
    "name": "ipython",
    "version": 3
   },
   "file_extension": ".py",
   "mimetype": "text/x-python",
   "name": "python",
   "nbconvert_exporter": "python",
   "pygments_lexer": "ipython3",
   "version": "3.11.5"
  }
 },
 "nbformat": 4,
 "nbformat_minor": 5
}
